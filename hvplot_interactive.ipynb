{
 "cells": [
  {
   "cell_type": "markdown",
   "id": "17ae70cb-3a1f-4410-9c60-a416f46ef008",
   "metadata": {},
   "source": [
    "# The Easiest Way to Create an Interactive Dashboard in Python\n",
    "\n",
    "This notebook supports the blog post\n",
    "\n",
    "**The Easiest Way to Create an Interactive Dashboard in Python. Turn Pandas pipelines into a\n",
    "dashboard using hvplot `.interactive`**\n",
    "\n",
    "by *Sophia Yang* and *Marc Skov Madsen*.\n",
    "\n",
    "Source: https://github.com/sophiamyang/hvplot_interactive"
   ]
  },
  {
   "cell_type": "markdown",
   "id": "02b4d499-83aa-48da-95bc-c966772efb5f",
   "metadata": {},
   "source": [
    "## Import and configure packages\n",
    "\n",
    "Please note that in **Colab** you will need to `!pip install panel hvplot` and add `comms='colab'` to `pn.extension`."
   ]
  },
  {
   "cell_type": "code",
   "execution_count": null,
   "id": "ae8521a1-b962-4b4e-b008-087afb307249",
   "metadata": {},
   "outputs": [],
   "source": [
    "# !pip install panel==0.12.6 hvplot==0.7.3"
   ]
  },
  {
   "cell_type": "code",
   "execution_count": null,
   "id": "a2f3e823",
   "metadata": {},
   "outputs": [],
   "source": [
    "import panel as pn\n",
    "\n",
    "pn.extension('tabulator', sizing_mode=\"stretch_width\")\n",
    "# pn.extension('tabulator', sizing_mode=\"stretch_width\", comms=\"colab\")"
   ]
  },
  {
   "cell_type": "code",
   "execution_count": null,
   "id": "5dcca107-c129-43dc-8cfe-fa52b2ff3981",
   "metadata": {},
   "outputs": [],
   "source": [
    "import hvplot.pandas\n",
    "import holoviews as hv\n",
    "\n",
    "hv.extension('bokeh')"
   ]
  },
  {
   "cell_type": "markdown",
   "id": "666482f6-fc41-4375-95f5-2f93da615cfd",
   "metadata": {},
   "source": [
    "## Define Color Palette"
   ]
  },
  {
   "cell_type": "code",
   "execution_count": null,
   "id": "ef717b50-db55-489b-a6a5-dd9ad686b4f4",
   "metadata": {},
   "outputs": [],
   "source": [
    "PALETTE = [\"#ff6f69\", \"#ffcc5c\", \"#88d8b0\", ]\n",
    "pn.Row(\n",
    "    pn.layout.HSpacer(height=50, background=PALETTE[0]),\n",
    "    pn.layout.HSpacer(height=50, background=PALETTE[1]),\n",
    "    pn.layout.HSpacer(height=50, background=PALETTE[2]),\n",
    ")"
   ]
  },
  {
   "cell_type": "markdown",
   "id": "fa58fd53-d2b7-49d8-9bc0-0afb7b46825f",
   "metadata": {},
   "source": [
    "## Load Data"
   ]
  },
  {
   "cell_type": "code",
   "execution_count": null,
   "id": "d4891f63",
   "metadata": {},
   "outputs": [],
   "source": [
    "from bokeh.sampledata.autompg import autompg_clean as df\n",
    "df.head()"
   ]
  },
  {
   "cell_type": "markdown",
   "id": "caa2cd1b-44c4-4dbe-9a77-7110a8eb4519",
   "metadata": {},
   "source": [
    "## Define DataFrame Pipeline"
   ]
  },
  {
   "cell_type": "code",
   "execution_count": null,
   "id": "34dfbde9-2ecd-40be-a34f-70d03f940ba0",
   "metadata": {},
   "outputs": [],
   "source": [
    "(\n",
    "    df[\n",
    "        (df.cyl == 4) & \n",
    "        (df.mfr.isin(['ford','chevrolet']))\n",
    "    ]\n",
    "    .groupby(['origin', 'cyl', 'mfr', 'yr'])['hp'].mean()\n",
    "    .to_frame()\n",
    "    .reset_index()\n",
    "    .sort_values(by='yr')\n",
    ").head(1)"
   ]
  },
  {
   "cell_type": "markdown",
   "id": "4b4c7659-d7c7-4563-8030-36ead91d6b89",
   "metadata": {},
   "source": [
    "## Make DataFrame Pipeline Interactive"
   ]
  },
  {
   "cell_type": "code",
   "execution_count": null,
   "id": "1ca9cd92-4588-4272-ae04-46fcd164aebc",
   "metadata": {},
   "outputs": [],
   "source": [
    "idf = df.interactive()"
   ]
  },
  {
   "cell_type": "markdown",
   "id": "f92fb027-e885-46fc-91b2-734afdb65956",
   "metadata": {},
   "source": [
    "Define [Panel widgets](https://panel.holoviz.org/reference/index.html#widgets)"
   ]
  },
  {
   "cell_type": "code",
   "execution_count": null,
   "id": "398ea158-84f5-4c0d-b517-0f1ac5ab3dac",
   "metadata": {},
   "outputs": [],
   "source": [
    "cylinders = pn.widgets.IntSlider(start=4, end=8, step=2)\n",
    "mfr = pn.widgets.ToggleGroup(\n",
    "    options=['ford', 'chevrolet', 'honda', 'toyota', 'audi'], \n",
    "    value=['ford', 'chevrolet', 'honda', 'toyota', 'audi'],\n",
    "    button_type='success')\n",
    "yaxis = pn.widgets.RadioButtonGroup(\n",
    "    name='Y axis', \n",
    "    options=['hp', 'weight'],\n",
    "    button_type='success'\n",
    ")"
   ]
  },
  {
   "cell_type": "markdown",
   "id": "6e6e6a46-2130-46f2-8441-a470ac1cc65b",
   "metadata": {},
   "source": [
    "Combine pipeline and widgets"
   ]
  },
  {
   "cell_type": "code",
   "execution_count": null,
   "id": "760ea161",
   "metadata": {},
   "outputs": [],
   "source": [
    "ipipeline = (\n",
    "    idf[\n",
    "        (idf.cyl == cylinders) & \n",
    "        (idf.mfr.isin(mfr))\n",
    "    ]\n",
    "    .groupby(['origin', 'mpg'])[yaxis].mean()\n",
    "    .to_frame()\n",
    "    .reset_index()\n",
    "    .sort_values(by='mpg')  \n",
    "    .reset_index(drop=True)\n",
    ")\n",
    "ipipeline.head()"
   ]
  },
  {
   "cell_type": "markdown",
   "id": "200d1286-e047-4566-9c7b-4f5eb7704dd5",
   "metadata": {},
   "source": [
    "## Pipe to Table"
   ]
  },
  {
   "cell_type": "code",
   "execution_count": null,
   "id": "da8dab01",
   "metadata": {},
   "outputs": [],
   "source": [
    "itable = ipipeline.pipe(pn.widgets.Tabulator, pagination='remote', page_size=10) # Set theme='fast' for deployment.\n",
    "itable"
   ]
  },
  {
   "cell_type": "markdown",
   "id": "816a62ec-0f6b-495e-8a2b-3a9e3399797b",
   "metadata": {},
   "source": [
    "Check out the [Tabulator Reference Guide](https://panel.holoviz.org/reference/widgets/Tabulator.html) for more inspiration."
   ]
  },
  {
   "cell_type": "markdown",
   "id": "c794f330-2eab-40a5-943a-a2ea4a4ed636",
   "metadata": {},
   "source": [
    "## Pipe to hvplot"
   ]
  },
  {
   "cell_type": "code",
   "execution_count": null,
   "id": "93253a22",
   "metadata": {},
   "outputs": [],
   "source": [
    "ihvplot = ipipeline.hvplot(x='mpg', y=yaxis, by='origin', color=PALETTE, line_width=6, height=400)\n",
    "ihvplot"
   ]
  },
  {
   "cell_type": "markdown",
   "id": "64344b7c-b595-4bc7-baa4-566837a26f53",
   "metadata": {},
   "source": [
    "## Layout using Template\n",
    "\n",
    "Here we use the [FastListTemplate](https://panel.holoviz.org/reference/templates/FastListTemplate.html#templates-gallery-fastlisttemplate)."
   ]
  },
  {
   "cell_type": "code",
   "execution_count": null,
   "id": "de7d8ab1",
   "metadata": {},
   "outputs": [],
   "source": [
    "template = pn.template.FastListTemplate(\n",
    "    title='Interactive DataFrame Dashboards with hvplot .interactive', \n",
    "    sidebar=['Cylinders', cylinders, 'Manufacturers', mfr, 'Y axis' , yaxis],\n",
    "    main=[ihvplot.panel(), itable.panel()],\n",
    "    accent_base_color=\"#88d8b0\",\n",
    "    header_background=\"#88d8b0\",\n",
    ")\n",
    "# template.show()\n",
    "template.servable();"
   ]
  },
  {
   "cell_type": "markdown",
   "id": "27172366-5cac-483e-99a3-513bef0708a7",
   "metadata": {},
   "source": [
    "Please note that to get the Tabulator table styled nicely for dark mode you can set `theme='fast'` when you define the `itable`. It won't work in the notebook though.\n",
    "\n",
    "To *serve the notebook* run `panel serve hvplot_interactive.ipynb`."
   ]
  },
  {
   "cell_type": "code",
   "execution_count": null,
   "id": "86d902e9-588f-4b51-8956-5f8faf9c275e",
   "metadata": {},
   "outputs": [],
   "source": []
  }
 ],
 "metadata": {
  "kernelspec": {
   "display_name": "Python 3 (ipykernel)",
   "language": "python",
   "name": "python3"
  },
  "language_info": {
   "codemirror_mode": {
    "name": "ipython",
    "version": 3
   },
   "file_extension": ".py",
   "mimetype": "text/x-python",
   "name": "python",
   "nbconvert_exporter": "python",
   "pygments_lexer": "ipython3",
   "version": "3.10.1"
  }
 },
 "nbformat": 4,
 "nbformat_minor": 5
}
